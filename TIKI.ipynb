{
 "cells": [
  {
   "cell_type": "code",
   "execution_count": 125,
   "metadata": {},
   "outputs": [],
   "source": [
    "import pandas as pd"
   ]
  },
  {
   "cell_type": "markdown",
   "metadata": {},
   "source": [
    "# Read csv files and get familiar with data"
   ]
  },
  {
   "cell_type": "code",
   "execution_count": 126,
   "metadata": {},
   "outputs": [],
   "source": [
    "df_product = pd.read_csv('E://tiki_hometest/dim_product.csv')"
   ]
  },
  {
   "cell_type": "code",
   "execution_count": 127,
   "metadata": {},
   "outputs": [],
   "source": [
    "df_event = pd.read_csv('E://tiki_hometest/events.csv')"
   ]
  },
  {
   "cell_type": "code",
   "execution_count": 128,
   "metadata": {},
   "outputs": [],
   "source": [
    "df_revenue = pd.read_csv('E://tiki_hometest/revenue.csv')"
   ]
  },
  {
   "cell_type": "code",
   "execution_count": 129,
   "metadata": {
    "scrolled": true
   },
   "outputs": [
    {
     "data": {
      "text/html": [
       "<div>\n",
       "<style scoped>\n",
       "    .dataframe tbody tr th:only-of-type {\n",
       "        vertical-align: middle;\n",
       "    }\n",
       "\n",
       "    .dataframe tbody tr th {\n",
       "        vertical-align: top;\n",
       "    }\n",
       "\n",
       "    .dataframe thead th {\n",
       "        text-align: right;\n",
       "    }\n",
       "</style>\n",
       "<table border=\"1\" class=\"dataframe\">\n",
       "  <thead>\n",
       "    <tr style=\"text-align: right;\">\n",
       "      <th></th>\n",
       "      <th>product_pseudo_id</th>\n",
       "      <th>category_pseudo_id</th>\n",
       "    </tr>\n",
       "  </thead>\n",
       "  <tbody>\n",
       "    <tr>\n",
       "      <th>0</th>\n",
       "      <td>8362</td>\n",
       "      <td>0</td>\n",
       "    </tr>\n",
       "    <tr>\n",
       "      <th>1</th>\n",
       "      <td>2277</td>\n",
       "      <td>1802</td>\n",
       "    </tr>\n",
       "    <tr>\n",
       "      <th>2</th>\n",
       "      <td>2148</td>\n",
       "      <td>1802</td>\n",
       "    </tr>\n",
       "    <tr>\n",
       "      <th>3</th>\n",
       "      <td>107015</td>\n",
       "      <td>1802</td>\n",
       "    </tr>\n",
       "    <tr>\n",
       "      <th>4</th>\n",
       "      <td>101319</td>\n",
       "      <td>1802</td>\n",
       "    </tr>\n",
       "    <tr>\n",
       "      <th>...</th>\n",
       "      <td>...</td>\n",
       "      <td>...</td>\n",
       "    </tr>\n",
       "    <tr>\n",
       "      <th>138066</th>\n",
       "      <td>79450</td>\n",
       "      <td>1790</td>\n",
       "    </tr>\n",
       "    <tr>\n",
       "      <th>138067</th>\n",
       "      <td>24378</td>\n",
       "      <td>1790</td>\n",
       "    </tr>\n",
       "    <tr>\n",
       "      <th>138068</th>\n",
       "      <td>23558</td>\n",
       "      <td>1790</td>\n",
       "    </tr>\n",
       "    <tr>\n",
       "      <th>138069</th>\n",
       "      <td>103522</td>\n",
       "      <td>1790</td>\n",
       "    </tr>\n",
       "    <tr>\n",
       "      <th>138070</th>\n",
       "      <td>1393</td>\n",
       "      <td>1790</td>\n",
       "    </tr>\n",
       "  </tbody>\n",
       "</table>\n",
       "<p>138071 rows × 2 columns</p>\n",
       "</div>"
      ],
      "text/plain": [
       "        product_pseudo_id  category_pseudo_id\n",
       "0                    8362                   0\n",
       "1                    2277                1802\n",
       "2                    2148                1802\n",
       "3                  107015                1802\n",
       "4                  101319                1802\n",
       "...                   ...                 ...\n",
       "138066              79450                1790\n",
       "138067              24378                1790\n",
       "138068              23558                1790\n",
       "138069             103522                1790\n",
       "138070               1393                1790\n",
       "\n",
       "[138071 rows x 2 columns]"
      ]
     },
     "execution_count": 129,
     "metadata": {},
     "output_type": "execute_result"
    }
   ],
   "source": [
    "df_product"
   ]
  },
  {
   "cell_type": "code",
   "execution_count": 130,
   "metadata": {
    "scrolled": true
   },
   "outputs": [
    {
     "data": {
      "text/html": [
       "<div>\n",
       "<style scoped>\n",
       "    .dataframe tbody tr th:only-of-type {\n",
       "        vertical-align: middle;\n",
       "    }\n",
       "\n",
       "    .dataframe tbody tr th {\n",
       "        vertical-align: top;\n",
       "    }\n",
       "\n",
       "    .dataframe thead th {\n",
       "        text-align: right;\n",
       "    }\n",
       "</style>\n",
       "<table border=\"1\" class=\"dataframe\">\n",
       "  <thead>\n",
       "    <tr style=\"text-align: right;\">\n",
       "      <th></th>\n",
       "      <th>date_key</th>\n",
       "      <th>event_name</th>\n",
       "      <th>event_time</th>\n",
       "      <th>customer_pseudo_id</th>\n",
       "      <th>product_pseudo_id</th>\n",
       "    </tr>\n",
       "  </thead>\n",
       "  <tbody>\n",
       "    <tr>\n",
       "      <th>0</th>\n",
       "      <td>2021-03-20</td>\n",
       "      <td>view</td>\n",
       "      <td>2021-03-20 10:57:42.903 UTC</td>\n",
       "      <td>256</td>\n",
       "      <td>2709.0</td>\n",
       "    </tr>\n",
       "    <tr>\n",
       "      <th>1</th>\n",
       "      <td>2021-03-20</td>\n",
       "      <td>view</td>\n",
       "      <td>2021-03-20 10:57:36.946 UTC</td>\n",
       "      <td>256</td>\n",
       "      <td>2709.0</td>\n",
       "    </tr>\n",
       "    <tr>\n",
       "      <th>2</th>\n",
       "      <td>2021-03-30</td>\n",
       "      <td>view</td>\n",
       "      <td>2021-03-30 02:02:45.694 UTC</td>\n",
       "      <td>256</td>\n",
       "      <td>48196.0</td>\n",
       "    </tr>\n",
       "    <tr>\n",
       "      <th>3</th>\n",
       "      <td>2021-04-16</td>\n",
       "      <td>view</td>\n",
       "      <td>2021-04-16 13:50:58.46 UTC</td>\n",
       "      <td>256</td>\n",
       "      <td>69379.0</td>\n",
       "    </tr>\n",
       "    <tr>\n",
       "      <th>4</th>\n",
       "      <td>2021-06-01</td>\n",
       "      <td>view</td>\n",
       "      <td>2021-06-01 04:19:58.135 UTC</td>\n",
       "      <td>256</td>\n",
       "      <td>133890.0</td>\n",
       "    </tr>\n",
       "    <tr>\n",
       "      <th>...</th>\n",
       "      <td>...</td>\n",
       "      <td>...</td>\n",
       "      <td>...</td>\n",
       "      <td>...</td>\n",
       "      <td>...</td>\n",
       "    </tr>\n",
       "    <tr>\n",
       "      <th>544564</th>\n",
       "      <td>2021-05-26</td>\n",
       "      <td>add_to_cart</td>\n",
       "      <td>2021-05-26 07:28:23.776 UTC</td>\n",
       "      <td>7935</td>\n",
       "      <td>78379.0</td>\n",
       "    </tr>\n",
       "    <tr>\n",
       "      <th>544565</th>\n",
       "      <td>2021-05-26</td>\n",
       "      <td>add_to_cart</td>\n",
       "      <td>2021-05-26 07:28:16.023 UTC</td>\n",
       "      <td>7935</td>\n",
       "      <td>78379.0</td>\n",
       "    </tr>\n",
       "    <tr>\n",
       "      <th>544566</th>\n",
       "      <td>2021-05-28</td>\n",
       "      <td>add_to_cart</td>\n",
       "      <td>2021-05-28 10:08:42.38 UTC</td>\n",
       "      <td>7935</td>\n",
       "      <td>107498.0</td>\n",
       "    </tr>\n",
       "    <tr>\n",
       "      <th>544567</th>\n",
       "      <td>2021-05-26</td>\n",
       "      <td>app_installed</td>\n",
       "      <td>2021-05-26 07:19:27 UTC</td>\n",
       "      <td>7935</td>\n",
       "      <td>NaN</td>\n",
       "    </tr>\n",
       "    <tr>\n",
       "      <th>544568</th>\n",
       "      <td>2021-03-01</td>\n",
       "      <td>view</td>\n",
       "      <td>2021-03-01 09:03:22.094 UTC</td>\n",
       "      <td>8191</td>\n",
       "      <td>56894.0</td>\n",
       "    </tr>\n",
       "  </tbody>\n",
       "</table>\n",
       "<p>544569 rows × 5 columns</p>\n",
       "</div>"
      ],
      "text/plain": [
       "          date_key     event_name                   event_time  \\\n",
       "0       2021-03-20           view  2021-03-20 10:57:42.903 UTC   \n",
       "1       2021-03-20           view  2021-03-20 10:57:36.946 UTC   \n",
       "2       2021-03-30           view  2021-03-30 02:02:45.694 UTC   \n",
       "3       2021-04-16           view   2021-04-16 13:50:58.46 UTC   \n",
       "4       2021-06-01           view  2021-06-01 04:19:58.135 UTC   \n",
       "...            ...            ...                          ...   \n",
       "544564  2021-05-26    add_to_cart  2021-05-26 07:28:23.776 UTC   \n",
       "544565  2021-05-26    add_to_cart  2021-05-26 07:28:16.023 UTC   \n",
       "544566  2021-05-28    add_to_cart   2021-05-28 10:08:42.38 UTC   \n",
       "544567  2021-05-26  app_installed      2021-05-26 07:19:27 UTC   \n",
       "544568  2021-03-01           view  2021-03-01 09:03:22.094 UTC   \n",
       "\n",
       "        customer_pseudo_id  product_pseudo_id  \n",
       "0                      256             2709.0  \n",
       "1                      256             2709.0  \n",
       "2                      256            48196.0  \n",
       "3                      256            69379.0  \n",
       "4                      256           133890.0  \n",
       "...                    ...                ...  \n",
       "544564                7935            78379.0  \n",
       "544565                7935            78379.0  \n",
       "544566                7935           107498.0  \n",
       "544567                7935                NaN  \n",
       "544568                8191            56894.0  \n",
       "\n",
       "[544569 rows x 5 columns]"
      ]
     },
     "execution_count": 130,
     "metadata": {},
     "output_type": "execute_result"
    }
   ],
   "source": [
    "df_event"
   ]
  },
  {
   "cell_type": "code",
   "execution_count": 131,
   "metadata": {
    "scrolled": true
   },
   "outputs": [
    {
     "data": {
      "text/html": [
       "<div>\n",
       "<style scoped>\n",
       "    .dataframe tbody tr th:only-of-type {\n",
       "        vertical-align: middle;\n",
       "    }\n",
       "\n",
       "    .dataframe tbody tr th {\n",
       "        vertical-align: top;\n",
       "    }\n",
       "\n",
       "    .dataframe thead th {\n",
       "        text-align: right;\n",
       "    }\n",
       "</style>\n",
       "<table border=\"1\" class=\"dataframe\">\n",
       "  <thead>\n",
       "    <tr style=\"text-align: right;\">\n",
       "      <th></th>\n",
       "      <th>date_key</th>\n",
       "      <th>customer_pseudo_id</th>\n",
       "      <th>product_pseudo_id</th>\n",
       "      <th>order_pseudo_code</th>\n",
       "      <th>quantity</th>\n",
       "      <th>revenue</th>\n",
       "    </tr>\n",
       "  </thead>\n",
       "  <tbody>\n",
       "    <tr>\n",
       "      <th>0</th>\n",
       "      <td>2021-03-02</td>\n",
       "      <td>3</td>\n",
       "      <td>82647</td>\n",
       "      <td>36</td>\n",
       "      <td>1</td>\n",
       "      <td>585200</td>\n",
       "    </tr>\n",
       "    <tr>\n",
       "      <th>1</th>\n",
       "      <td>2021-03-02</td>\n",
       "      <td>261</td>\n",
       "      <td>120179</td>\n",
       "      <td>15</td>\n",
       "      <td>1</td>\n",
       "      <td>91300</td>\n",
       "    </tr>\n",
       "    <tr>\n",
       "      <th>2</th>\n",
       "      <td>2021-03-02</td>\n",
       "      <td>9</td>\n",
       "      <td>132512</td>\n",
       "      <td>53</td>\n",
       "      <td>2</td>\n",
       "      <td>396000</td>\n",
       "    </tr>\n",
       "    <tr>\n",
       "      <th>3</th>\n",
       "      <td>2021-03-02</td>\n",
       "      <td>14</td>\n",
       "      <td>55040</td>\n",
       "      <td>42</td>\n",
       "      <td>1</td>\n",
       "      <td>124300</td>\n",
       "    </tr>\n",
       "    <tr>\n",
       "      <th>4</th>\n",
       "      <td>2021-03-02</td>\n",
       "      <td>526</td>\n",
       "      <td>93700</td>\n",
       "      <td>25</td>\n",
       "      <td>1</td>\n",
       "      <td>109670</td>\n",
       "    </tr>\n",
       "    <tr>\n",
       "      <th>...</th>\n",
       "      <td>...</td>\n",
       "      <td>...</td>\n",
       "      <td>...</td>\n",
       "      <td>...</td>\n",
       "      <td>...</td>\n",
       "      <td>...</td>\n",
       "    </tr>\n",
       "    <tr>\n",
       "      <th>17181</th>\n",
       "      <td>2021-03-01</td>\n",
       "      <td>754</td>\n",
       "      <td>9613</td>\n",
       "      <td>12890</td>\n",
       "      <td>1</td>\n",
       "      <td>72270</td>\n",
       "    </tr>\n",
       "    <tr>\n",
       "      <th>17182</th>\n",
       "      <td>2021-03-01</td>\n",
       "      <td>754</td>\n",
       "      <td>73142</td>\n",
       "      <td>12890</td>\n",
       "      <td>1</td>\n",
       "      <td>74470</td>\n",
       "    </tr>\n",
       "    <tr>\n",
       "      <th>17183</th>\n",
       "      <td>2021-03-01</td>\n",
       "      <td>1010</td>\n",
       "      <td>63560</td>\n",
       "      <td>12957</td>\n",
       "      <td>1</td>\n",
       "      <td>156200</td>\n",
       "    </tr>\n",
       "    <tr>\n",
       "      <th>17184</th>\n",
       "      <td>2021-03-01</td>\n",
       "      <td>5109</td>\n",
       "      <td>44114</td>\n",
       "      <td>12903</td>\n",
       "      <td>1</td>\n",
       "      <td>89265</td>\n",
       "    </tr>\n",
       "    <tr>\n",
       "      <th>17185</th>\n",
       "      <td>2021-03-01</td>\n",
       "      <td>3583</td>\n",
       "      <td>116207</td>\n",
       "      <td>12935</td>\n",
       "      <td>3</td>\n",
       "      <td>708400</td>\n",
       "    </tr>\n",
       "  </tbody>\n",
       "</table>\n",
       "<p>17186 rows × 6 columns</p>\n",
       "</div>"
      ],
      "text/plain": [
       "         date_key  customer_pseudo_id  product_pseudo_id  order_pseudo_code  \\\n",
       "0      2021-03-02                   3              82647                 36   \n",
       "1      2021-03-02                 261             120179                 15   \n",
       "2      2021-03-02                   9             132512                 53   \n",
       "3      2021-03-02                  14              55040                 42   \n",
       "4      2021-03-02                 526              93700                 25   \n",
       "...           ...                 ...                ...                ...   \n",
       "17181  2021-03-01                 754               9613              12890   \n",
       "17182  2021-03-01                 754              73142              12890   \n",
       "17183  2021-03-01                1010              63560              12957   \n",
       "17184  2021-03-01                5109              44114              12903   \n",
       "17185  2021-03-01                3583             116207              12935   \n",
       "\n",
       "       quantity  revenue  \n",
       "0             1   585200  \n",
       "1             1    91300  \n",
       "2             2   396000  \n",
       "3             1   124300  \n",
       "4             1   109670  \n",
       "...         ...      ...  \n",
       "17181         1    72270  \n",
       "17182         1    74470  \n",
       "17183         1   156200  \n",
       "17184         1    89265  \n",
       "17185         3   708400  \n",
       "\n",
       "[17186 rows x 6 columns]"
      ]
     },
     "execution_count": 131,
     "metadata": {},
     "output_type": "execute_result"
    }
   ],
   "source": [
    "df_revenue"
   ]
  },
  {
   "cell_type": "markdown",
   "metadata": {},
   "source": [
    "# Step 1"
   ]
  },
  {
   "cell_type": "code",
   "execution_count": 132,
   "metadata": {
    "scrolled": true
   },
   "outputs": [],
   "source": [
    "# Remove rows contain `app_installed` and `register` values in the `event_name` column\n",
    "# Add `category_pseudo_id` column by merging with `df_product`\n",
    "\n",
    "df_event_2 = df_event[df_event['event_name'].isin(['search','view','add_to_cart','purchase'])].merge(df_product, how = 'left', on = 'product_pseudo_id')"
   ]
  },
  {
   "cell_type": "code",
   "execution_count": 133,
   "metadata": {},
   "outputs": [],
   "source": [
    "# Convert values in `event_name` to numeric value to easily type\n",
    "\n",
    "event_conversion = {'event_name':['search','view','add_to_cart','purchase'], 'step':[1,2,3,4]}\n",
    "event_conversion = pd.DataFrame(event_conversion)\n",
    "df_event_2 = df_event_2.merge(event_conversion, how = 'left', on = 'event_name')"
   ]
  },
  {
   "cell_type": "code",
   "execution_count": 134,
   "metadata": {},
   "outputs": [],
   "source": [
    "# Create a list of customer ids\n",
    "customer_list = df_event_2['customer_pseudo_id'].unique()"
   ]
  },
  {
   "cell_type": "code",
   "execution_count": 135,
   "metadata": {},
   "outputs": [],
   "source": [
    "# Divide `df_event_2` into 4 small dataframes\n",
    "\n",
    "df_1 = pd.DataFrame()\n",
    "df_2 = pd.DataFrame()\n",
    "df_3 = pd.DataFrame()\n",
    "df_4 = pd.DataFrame()"
   ]
  },
  {
   "cell_type": "code",
   "execution_count": 136,
   "metadata": {},
   "outputs": [],
   "source": [
    "for customer_id in customer_list:\n",
    "    event_info = df_event_2[df_event_2['customer_pseudo_id'] == customer_id]\n",
    "    step_list = event_info['step'].unique()\n",
    "    if 4 in step_list:\n",
    "        df_4 = pd.concat([df_4, event_info])\n",
    "    else:\n",
    "        if 3 in step_list:\n",
    "            df_3 = pd.concat([df_3, event_info])\n",
    "        else:\n",
    "            if 2 in step_list:\n",
    "                df_2 = pd.concat([df_2, event_info])\n",
    "            else:\n",
    "                df_1 = pd.concat([df_1, event_info])"
   ]
  },
  {
   "cell_type": "markdown",
   "metadata": {},
   "source": [
    "# Step 2"
   ]
  },
  {
   "cell_type": "code",
   "execution_count": 137,
   "metadata": {},
   "outputs": [],
   "source": [
    "add_view = pd.DataFrame()\n",
    "view_search = pd.DataFrame()"
   ]
  },
  {
   "cell_type": "code",
   "execution_count": 138,
   "metadata": {},
   "outputs": [],
   "source": [
    "buy_intent = pd.DataFrame() \n",
    "add_intent = pd.DataFrame()\n",
    "view_intent = pd.DataFrame()\n",
    "search_intent = pd.DataFrame()"
   ]
  },
  {
   "cell_type": "markdown",
   "metadata": {},
   "source": [
    "# 1. Purchase / Add_to_cart"
   ]
  },
  {
   "cell_type": "code",
   "execution_count": 139,
   "metadata": {},
   "outputs": [],
   "source": [
    "buy_search_ratio = []\n",
    "for customer in df_4['customer_pseudo_id'].unique():\n",
    "    event_info = df_4[df_4['customer_pseudo_id'] == customer]\n",
    "    if 1 in event_info['step'].unique():\n",
    "        buy_search_ratio.append(len(event_info[event_info['step'] == 4])/len(event_info[event_info['step'] == 1]))\n",
    "buy_search_mean = sum(buy_search_ratio)/len(buy_search_ratio)"
   ]
  },
  {
   "cell_type": "code",
   "execution_count": 140,
   "metadata": {},
   "outputs": [],
   "source": [
    "buy_view_ratio = []\n",
    "for customer in df_4['customer_pseudo_id'].unique():\n",
    "    event_info = df_4[df_4['customer_pseudo_id'] == customer]\n",
    "    if 2 in event_info['step'].unique():\n",
    "        buy_view_ratio.append(len(event_info[event_info['step'] == 4])/len(event_info[event_info['step'] == 2]))\n",
    "buy_view_mean = sum(buy_view_ratio)/len(buy_view_ratio)"
   ]
  },
  {
   "cell_type": "code",
   "execution_count": 141,
   "metadata": {},
   "outputs": [],
   "source": [
    "buy_add_ratio = []\n",
    "for customer in df_4['customer_pseudo_id'].unique():\n",
    "    event_info = df_4[df_4['customer_pseudo_id'] == customer]\n",
    "    if 3 in event_info['step'].unique():\n",
    "        buy_add_ratio.append(len(event_info[event_info['step'] == 4])/len(event_info[event_info['step'] == 3]))\n",
    "buy_add_mean = sum(buy_add_ratio)/len(buy_add_ratio)"
   ]
  },
  {
   "cell_type": "code",
   "execution_count": null,
   "metadata": {},
   "outputs": [],
   "source": [
    "for customer in df_4['customer_pseudo_id'].unique():\n",
    "    event_info = df_4[df_4['customer_pseudo_id'] == customer]\n",
    "    step_list = event_info['step'].unique()\n",
    "    buy_event = event_info[event_info['step'] == 4]\n",
    "    add_event = event_info[event_info['step'] == 3]\n",
    "    view_event = event_info[event_info['step'] == 2]\n",
    "    search_event = event_info[event_info['step'] == 1]\n",
    "    if 3 not in step_list:\n",
    "        if 2 not in step_list:\n",
    "            if 1 not in step_list:\n",
    "                buy_intent = pd.concat([buy_intent,event_info])\n",
    "            else:\n",
    "                if len(buy_event)/len(search_event) >= buy_search_mean:\n",
    "                    buy_intent = pd.concat([buy_intent,event_info])\n",
    "                else:\n",
    "                    search_intent = pd.concat([search_intent,event_info])\n",
    "        else:\n",
    "            if len(buy_event)/len(view_event) >= buy_view_mean:\n",
    "                buy_intent = pd.concat([buy_intent,event_info])\n",
    "            else:\n",
    "                if 1 not in step_list:\n",
    "                    view_intent = pd.concat([view_intent,event_info])\n",
    "                else:\n",
    "                    view_search = pd.concat([view_search,event_info])\n",
    "    else:\n",
    "        if len(buy_event)/len(add_event) >= buy_add_mean:\n",
    "            buy_intent = pd.concat([buy_intent,event_info])\n",
    "        else:\n",
    "            add_view = pd.concat([add_view,event_info])"
   ]
  },
  {
   "cell_type": "markdown",
   "metadata": {},
   "source": [
    "# 2. Add_to_cart / View"
   ]
  },
  {
   "cell_type": "code",
   "execution_count": null,
   "metadata": {},
   "outputs": [],
   "source": [
    "add_search_ratio = []\n",
    "for customer in df_event_2['customer_pseudo_id'].unique():\n",
    "    event_info = df_event_2[df_event_2['customer_pseudo_id'] == customer]\n",
    "    if (1 in event_info['step'].unique()) and (3 in event_info['step'].unique()):\n",
    "        add_search_ratio.append(len(event_info[event_info['step'] == 3])/len(event_info[event_info['step'] == 1]))\n",
    "add_search_mean = sum(add_search_ratio)/len(add_search_ratio)"
   ]
  },
  {
   "cell_type": "code",
   "execution_count": null,
   "metadata": {},
   "outputs": [],
   "source": [
    "add_view_ratio = []\n",
    "for customer in df_event_2['customer_pseudo_id'].unique():\n",
    "    event_info = df_event_2[df_event_2['customer_pseudo_id'] == customer]\n",
    "    if (2 in event_info['step'].unique()) and (3 in event_info['step'].unique()):\n",
    "        add_view_ratio.append(len(event_info[event_info['step'] == 3])/len(event_info[event_info['step'] == 2]))\n",
    "add_view_mean = sum(add_view_ratio)/len(add_view_ratio)"
   ]
  },
  {
   "cell_type": "code",
   "execution_count": null,
   "metadata": {},
   "outputs": [],
   "source": [
    "add_view = pd.concat([add_view,df_3])\n",
    "for customer in add_view['customer_pseudo_id'].unique():\n",
    "    event_info = add_view[add_view['customer_pseudo_id'] == customer]\n",
    "    step_list = event_info['step'].unique()\n",
    "    add_event = event_info[event_info['step'] == 3]\n",
    "    view_event = event_info[event_info['step'] == 2]\n",
    "    search_event = event_info[event_info['step'] == 1]\n",
    "    if 2 not in step_list:\n",
    "        if 1 not in step_list:\n",
    "            add_intent = pd.concat([add_intent,event_info])\n",
    "        else:\n",
    "            if len(add_event)/len(search_event) >= add_search_mean:\n",
    "                add_intent = pd.concat([add_intent,event_info])\n",
    "            else:\n",
    "                search_intent = pd.concat([search_intent,event_info])\n",
    "    else:\n",
    "        if len(add_event)/len(view_event) >= add_view_mean:\n",
    "            add_intent = pd.concat([add_intent,event_info])\n",
    "        else:\n",
    "            view_search = pd.concat([view_search,event_info])"
   ]
  },
  {
   "cell_type": "markdown",
   "metadata": {},
   "source": [
    "# 3. View / Search"
   ]
  },
  {
   "cell_type": "code",
   "execution_count": null,
   "metadata": {},
   "outputs": [],
   "source": [
    "view_search = pd.concat([view_search,df_2])"
   ]
  },
  {
   "cell_type": "code",
   "execution_count": null,
   "metadata": {},
   "outputs": [],
   "source": [
    "view_search_ratio = []\n",
    "for customer in df_event_2['customer_pseudo_id'].unique():\n",
    "    event_info = df_event_2[df_event_2['customer_pseudo_id'] == customer]\n",
    "    if (1 in event_info['step'].unique()) and (2 in event_info['step'].unique()):\n",
    "        view_search_ratio.append(len(event_info[event_info['step'] == 2])/len(event_info[event_info['step'] == 1]))\n",
    "view_search_mean = sum(view_search_ratio)/len(view_search_ratio)"
   ]
  },
  {
   "cell_type": "code",
   "execution_count": null,
   "metadata": {},
   "outputs": [],
   "source": [
    "for customer in view_search['customer_pseudo_id'].unique():\n",
    "    event_info = view_search[view_search['customer_pseudo_id'] == customer]\n",
    "    step_list = event_info['step'].unique()\n",
    "    view_event = event_info[event_info['step'] == 2]\n",
    "    search_event = event_info[event_info['step'] == 1]\n",
    "    if 1 not in step_list:\n",
    "        view_intent = pd.concat([view_intent,event_info])\n",
    "    else:\n",
    "        if len(view_event)/len(search_event) >= view_search_mean:\n",
    "            view_intent = pd.concat([view_intent,event_info])\n",
    "        else:\n",
    "            search_intent = pd.concat([search_intent,event_info])"
   ]
  },
  {
   "cell_type": "code",
   "execution_count": null,
   "metadata": {},
   "outputs": [],
   "source": [
    "search_intent = pd.concat([search_intent,df_1])"
   ]
  },
  {
   "cell_type": "code",
   "execution_count": null,
   "metadata": {},
   "outputs": [],
   "source": [
    "# Count number of customers in each purchase intention levels\n",
    "\n",
    "purchase_intention_count = pd.DataFrame({'purchase_intention_level':['Awareness','Consideration','Conversion','Buy','Total'],\n",
    "                                         'number_of_customers':[(search_intent['customer_pseudo_id'].nunique()),\n",
    "                                                                (view_intent['customer_pseudo_id'].nunique()),\n",
    "                                                                (add_intent['customer_pseudo_id'].nunique()),\n",
    "                                                                (buy_intent['customer_pseudo_id'].nunique()),\n",
    "                                                                (df_event_2['customer_pseudo_id'].nunique())]})"
   ]
  },
  {
   "cell_type": "code",
   "execution_count": null,
   "metadata": {},
   "outputs": [],
   "source": [
    "purchase_intention_count"
   ]
  },
  {
   "cell_type": "markdown",
   "metadata": {},
   "source": [
    "# Purchase intention of each customer by product categories in each intention level"
   ]
  },
  {
   "cell_type": "code",
   "execution_count": null,
   "metadata": {
    "scrolled": true
   },
   "outputs": [],
   "source": [
    "# Buy\n",
    "\n",
    "buy_intent[buy_intent['event_name'] == 'purchase'][['customer_pseudo_id','category_pseudo_id','event_name']].groupby(['customer_pseudo_id','category_pseudo_id']).count().sort_values('event_name', ascending = False)"
   ]
  },
  {
   "cell_type": "code",
   "execution_count": null,
   "metadata": {},
   "outputs": [],
   "source": [
    "# Conversion\n",
    "\n",
    "add_intent[add_intent['event_name'] == 'add_to_cart'][['customer_pseudo_id','category_pseudo_id','event_name']].groupby(['customer_pseudo_id','category_pseudo_id']).count().sort_values('event_name', ascending = False)"
   ]
  },
  {
   "cell_type": "code",
   "execution_count": null,
   "metadata": {},
   "outputs": [],
   "source": [
    "# Consideration\n",
    "\n",
    "view_intent[view_intent['event_name'] == 'view'][['customer_pseudo_id','category_pseudo_id','event_name']].groupby(['customer_pseudo_id','category_pseudo_id']).count().sort_values('event_name', ascending = False)"
   ]
  }
 ],
 "metadata": {
  "kernelspec": {
   "display_name": "Python 3",
   "language": "python",
   "name": "python3"
  },
  "language_info": {
   "codemirror_mode": {
    "name": "ipython",
    "version": 3
   },
   "file_extension": ".py",
   "mimetype": "text/x-python",
   "name": "python",
   "nbconvert_exporter": "python",
   "pygments_lexer": "ipython3",
   "version": "3.7.6"
  }
 },
 "nbformat": 4,
 "nbformat_minor": 4
}
